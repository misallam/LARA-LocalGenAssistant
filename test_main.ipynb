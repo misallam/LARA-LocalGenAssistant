{
 "cells": [
  {
   "cell_type": "markdown",
   "metadata": {},
   "source": [
    "## Upload Books"
   ]
  },
  {
   "cell_type": "code",
   "execution_count": 21,
   "metadata": {},
   "outputs": [
    {
     "name": "stdout",
     "output_type": "stream",
     "text": [
      "{\"filename\":\"Art of Coaching Script.json\",\"location\":\"books/Art of Coaching Script.json\"}\n"
     ]
    }
   ],
   "source": [
    "import requests\n",
    "\n",
    "url = \"http://127.0.0.1:8080\"\n",
    "book_name = \"Art of Coaching Script.json\"\n",
    "book_path = r\"E:\\ro2ya_dev\\LARA\\books\\Art of Coaching Script.json\"\n",
    "upload_type = \"application/vnd.openxmlformats-officedocument.wordprocessingml.document\"\n",
    "\n",
    "payload = {}\n",
    "files=[\n",
    "  ('file',(book_name, open(book_path,'rb'), upload_type))\n",
    "]\n",
    "headers = {}\n",
    "\n",
    "response = requests.request(\"POST\", url, headers=headers, data=payload, files=files)\n",
    "\n",
    "print(response.text)"
   ]
  },
  {
   "cell_type": "markdown",
   "metadata": {},
   "source": [
    "## Test Stream Text"
   ]
  },
  {
   "cell_type": "code",
   "execution_count": 22,
   "metadata": {},
   "outputs": [
    {
     "name": "stdout",
     "output_type": "stream",
     "text": [
      "الكورس بيتحدث عن فن التوجيه والتدريب \"coaching\" وكيفية تطبيقه في بيئة العمل. ومن ثم يسلط الضوء على الآثار الإيجابية لتبني هذه الثقافة في الشركات، مثل تحسين أداء الموظفين والمديرين، زيادة الإنتاجية، تحسين العلاقات الفريقية وتطوير مهارات الموظفين."
     ]
    }
   ],
   "source": [
    "import requests\n",
    "import json\n",
    "\n",
    "stream_url = 'http://localhost:8080/text'\n",
    "data = {\n",
    "    \"message\": \"ما الذي يتكلم عنه الكتاب أو الكورس وما آثاره الإيجابية؟\"\n",
    "}  \n",
    "\n",
    "headers = {'Content-Type': 'application/json'}\n",
    "\n",
    "with requests.post(stream_url, data=json.dumps(data),headers=headers, stream=True) as response:\n",
    "    if response.status_code == 200:\n",
    "        for chunk in response:\n",
    "            print(chunk.decode('utf-8'), end=\"\")\n",
    "    else:\n",
    "        print(\"Failed to connect to the streaming service\")\n"
   ]
  },
  {
   "cell_type": "markdown",
   "metadata": {},
   "source": [
    "## Test Stream Audio"
   ]
  },
  {
   "cell_type": "code",
   "execution_count": 23,
   "metadata": {},
   "outputs": [
    {
     "name": "stdout",
     "output_type": "stream",
     "text": [
      "Streaming completed.\n"
     ]
    }
   ],
   "source": [
    "import requests\n",
    "import json\n",
    "from audio import stream\n",
    "\n",
    "stream_url = 'http://localhost:8080/audio'\n",
    "data = {\n",
    "    \"message\": \"what is your name\"\n",
    "}\n",
    "\n",
    "headers = {'Content-Type': 'application/json'}\n",
    "\n",
    "with requests.post(stream_url, data=json.dumps(data),headers=headers, stream=True) as response:\n",
    "    if response.status_code == 200:\n",
    "        stream(response)\n",
    "    else:\n",
    "        print(\"Failed to connect to the streaming service\")\n",
    "\n",
    "print(\"Streaming completed.\")"
   ]
  },
  {
   "cell_type": "markdown",
   "metadata": {},
   "source": [
    "# Stream Text and Audio"
   ]
  },
  {
   "cell_type": "code",
   "execution_count": 24,
   "metadata": {},
   "outputs": [
    {
     "name": "stdout",
     "output_type": "stream",
     "text": [
      "على الرحب والسعة! أنا في الخدمة دايمًا.An error occurred: received 1012 (service restart); then sent 1012 (service restart)\n"
     ]
    }
   ],
   "source": [
    "import asyncio\n",
    "import websockets\n",
    "import json\n",
    "from audio import stream, astream_with_text\n",
    "import subprocess\n",
    "import base64\n",
    "\n",
    "async def send_data_via_websocket():\n",
    "    uri = \"ws://localhost:8080/socket_audio\"\n",
    "    data = {\n",
    "        \"message\": \"شكرا لارا\"\n",
    "    }\n",
    "    \n",
    "    try:\n",
    "        async with websockets.connect(uri) as websocket:\n",
    "            await websocket.send(json.dumps(data))\n",
    "            await astream_with_text(websocket)\n",
    "            \n",
    "    except Exception as e:\n",
    "        print(f\"An error occurred: {e}\")\n",
    "\n",
    "loop = asyncio.get_event_loop()\n",
    "if loop.is_running():\n",
    "    asyncio.ensure_future(send_data_via_websocket())\n",
    "else:\n",
    "    loop.run_until_complete(send_data_via_websocket())"
   ]
  },
  {
   "cell_type": "code",
   "execution_count": null,
   "metadata": {},
   "outputs": [],
   "source": []
  }
 ],
 "metadata": {
  "kernelspec": {
   "display_name": "mahmoud",
   "language": "python",
   "name": "python3"
  },
  "language_info": {
   "codemirror_mode": {
    "name": "ipython",
    "version": 3
   },
   "file_extension": ".py",
   "mimetype": "text/x-python",
   "name": "python",
   "nbconvert_exporter": "python",
   "pygments_lexer": "ipython3",
   "version": "3.12.2"
  }
 },
 "nbformat": 4,
 "nbformat_minor": 2
}
